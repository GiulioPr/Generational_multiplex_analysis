{
 "cells": [
  {
   "cell_type": "code",
   "execution_count": 1,
   "metadata": {},
   "outputs": [
    {
     "name": "stdout",
     "output_type": "stream",
     "text": [
      "/Users/quanti/Desktop/HSC/Generational_multiplex_analysis_2_backup_copy_20200714/\n"
     ]
    }
   ],
   "source": [
    "import itertools as itt\n",
    "%matplotlib inline\n",
    "import matplotlib as mpl\n",
    "import matplotlib.pyplot as plt\n",
    "import matplotlib.patches as mpatches\n",
    "import numpy as np\n",
    "import os\n",
    "import pandas as pd\n",
    "import pickle\n",
    "import scipy.optimize as spo\n",
    "import scipy.special as spsp\n",
    "import scipy.stats as sps\n",
    "import seaborn as sns\n",
    "\n",
    "from matplotlib.ticker import FixedLocator\n",
    "\n",
    "mpl.rcParams['axes.titlesize'] = 'xx-large'\n",
    "mpl.rcParams['axes.labelsize'] = 'xx-large'\n",
    "mpl.rcParams['xtick.labelsize'] = 'x-large'\n",
    "mpl.rcParams['ytick.labelsize'] = 'x-large'\n",
    "mpl.rcParams['xtick.direction'] = 'out'\n",
    "mpl.rcParams['ytick.direction'] = 'out'\n",
    "mpl.rcParams['legend.frameon'] = True\n",
    "mpl.rcParams['legend.framealpha'] = 0.5\n",
    "mpl.rcParams['legend.fontsize'] = 'large'\n",
    "\n",
    "path_proj = os.getcwd()+ '/'\n",
    "path_sc = path_proj + 'csv/Single_cell/'\n",
    "path_sort = path_proj + 'csv/Sort/'\n",
    "path_plot = path_proj + 'figures/'\n",
    "\n",
    "print(path_proj)\n",
    "\n",
    "#LOAD AND CLEAN THE DATA\n",
    "dfr = pd.read_excel(path_proj+'csv/Culture_results.xlsx', sheet_name='Sheet3')#, sep=';', decimal=',')\n",
    "for k in range(4,dfr.shape[1],3):\n",
    "    dfr.iloc[:,k:k+3] = dfr.iloc[:,k-3:k].values + dfr.iloc[:,k:k+3].values\n",
    "\n",
    "dfe = pd.read_excel(path_proj+'csv/Culture_results.xlsx', sheet_name='cloning efficiency_CP')\n",
    "dfe = dfe.drop(['GMP'], axis=1)"
   ]
  },
  {
   "cell_type": "code",
   "execution_count": 2,
   "metadata": {},
   "outputs": [
    {
     "data": {
      "text/plain": [
       "Index(['MK', 'CFU-MK', 'GM', 'BFU-E', 'Mixed'], dtype='object')"
      ]
     },
     "execution_count": 2,
     "metadata": {},
     "output_type": "execute_result"
    }
   ],
   "source": [
    "#PROCESSING\n",
    "lst_cols = {}\n",
    "lst_cols_std = {}\n",
    "\n",
    "for k in range(1,dfr.shape[1],3):\n",
    "    columns = dfr.columns[k:k+3]\n",
    "    label = dfr.columns[k][:-1]\n",
    "    means = dfr.loc[:,columns].mean(axis=1)\n",
    "    dct_col = {label:means.to_list()}\n",
    "    dct_col_std = {label:dfr.loc[:,columns].std(axis=1).to_list()}\n",
    "    lst_cols.update(dct_col)\n",
    "    lst_cols_std.update(dct_col_std)\n",
    "df = pd.DataFrame.from_dict(lst_cols)\n",
    "df.index = dfr.iloc[:,0].to_list()\n",
    "df_std = pd.DataFrame.from_dict(lst_cols_std)\n",
    "df_std.index = dfr.iloc[:,0].to_list()\n",
    "df.columns"
   ]
  },
  {
   "cell_type": "code",
   "execution_count": 3,
   "metadata": {},
   "outputs": [
    {
     "data": {
      "text/html": [
       "<div>\n",
       "<style scoped>\n",
       "    .dataframe tbody tr th:only-of-type {\n",
       "        vertical-align: middle;\n",
       "    }\n",
       "\n",
       "    .dataframe tbody tr th {\n",
       "        vertical-align: top;\n",
       "    }\n",
       "\n",
       "    .dataframe thead th {\n",
       "        text-align: right;\n",
       "    }\n",
       "</style>\n",
       "<table border=\"1\" class=\"dataframe\">\n",
       "  <thead>\n",
       "    <tr style=\"text-align: right;\">\n",
       "      <th></th>\n",
       "      <th>MK</th>\n",
       "      <th>CFU-MK</th>\n",
       "      <th>GM</th>\n",
       "      <th>BFU-E</th>\n",
       "      <th>Mixed</th>\n",
       "    </tr>\n",
       "  </thead>\n",
       "  <tbody>\n",
       "    <tr>\n",
       "      <th>SLAM-HSC</th>\n",
       "      <td>0.000000</td>\n",
       "      <td>1.697056</td>\n",
       "      <td>1.061629</td>\n",
       "      <td>7.284168</td>\n",
       "      <td>2.828427e-08</td>\n",
       "    </tr>\n",
       "    <tr>\n",
       "      <th>MPP</th>\n",
       "      <td>1.166364</td>\n",
       "      <td>2.103778</td>\n",
       "      <td>17.677465</td>\n",
       "      <td>17.677465</td>\n",
       "      <td>1.154705e-09</td>\n",
       "    </tr>\n",
       "    <tr>\n",
       "      <th>PreMegE</th>\n",
       "      <td>2.546210</td>\n",
       "      <td>6.140517</td>\n",
       "      <td>9.724163</td>\n",
       "      <td>16.169012</td>\n",
       "      <td>2.121318e-09</td>\n",
       "    </tr>\n",
       "    <tr>\n",
       "      <th>CMP/MEP</th>\n",
       "      <td>0.352162</td>\n",
       "      <td>0.382001</td>\n",
       "      <td>2.282867</td>\n",
       "      <td>16.419815</td>\n",
       "      <td>2.757715e-08</td>\n",
       "    </tr>\n",
       "    <tr>\n",
       "      <th>GMP</th>\n",
       "      <td>0.000000</td>\n",
       "      <td>0.000000</td>\n",
       "      <td>1.786466</td>\n",
       "      <td>4.067456</td>\n",
       "      <td>1.414219e-09</td>\n",
       "    </tr>\n",
       "  </tbody>\n",
       "</table>\n",
       "</div>"
      ],
      "text/plain": [
       "                MK    CFU-MK         GM      BFU-E         Mixed\n",
       "SLAM-HSC  0.000000  1.697056   1.061629   7.284168  2.828427e-08\n",
       "MPP       1.166364  2.103778  17.677465  17.677465  1.154705e-09\n",
       "PreMegE   2.546210  6.140517   9.724163  16.169012  2.121318e-09\n",
       "CMP/MEP   0.352162  0.382001   2.282867  16.419815  2.757715e-08\n",
       "GMP       0.000000  0.000000   1.786466   4.067456  1.414219e-09"
      ]
     },
     "execution_count": 3,
     "metadata": {},
     "output_type": "execute_result"
    }
   ],
   "source": [
    "df_std"
   ]
  },
  {
   "cell_type": "code",
   "execution_count": 4,
   "metadata": {},
   "outputs": [
    {
     "data": {
      "image/png": "[encoded data removed]",
      "text/plain": [
       "<Figure size 432x288 with 1 Axes>"
      ]
     },
     "metadata": {},
     "output_type": "display_data"
    }
   ],
   "source": [
    "colors = sns.color_palette('Accent')[1:6]\n",
    "xlabel = 'Progenitor'\n",
    "ylabel = 'CFC type (%)'\n",
    "legend_title = 'Cell type'\n",
    "legend_classes = df.columns.to_list()\n",
    "legend_cols = colors\n",
    "cat_width = 0.7\n",
    "fig, ax = plt.subplots()\n",
    "n_cat = len(df)\n",
    "for nc,cat_k in enumerate(df.index):\n",
    "    x_cat = -cat_width/2 + nc\n",
    "    y = df.loc[cat_k].values\n",
    "    ci = df_std.loc[cat_k].values\n",
    "    bar_width = cat_width\n",
    "    bottoms = np.hstack([np.zeros(1),y[:-1]])\n",
    "    x_ci = [x_cat+k*bar_width/(len(y)) for k in np.arange(1,len(y))]\n",
    "    if len(ci) != 0:\n",
    "        prev_y = y[0]\n",
    "        for k in np.arange(len(y)-1):\n",
    "            if k == 0 or y[k] != prev_y:\n",
    "                ax.plot([x_ci[k]]*3, [max(y[k]-ci[k], 0), y[k], min(y[k]+ci[k], 100)],\n",
    "                        ls='-', marker='_', ms=5., lw=1., color='Black')#, color='Silver')\n",
    "            prev_y = y[k]\n",
    "    ax.bar(x=[x_cat]*len(y), height=y-bottoms,\n",
    "           width=[bar_width]*len(y), bottom=bottoms, align='edge',\n",
    "           color=colors)\n",
    "handles = [mpatches.Patch(color=co, label=cl) for cl,co in zip(legend_classes,legend_cols)]\n",
    "ax.legend(handles=handles, loc='upper left', ncol=1, bbox_to_anchor= (1.05, 1.), title=legend_title)\n",
    "\n",
    "ax.set_xticks(np.arange(n_cat, dtype=int))\n",
    "ax.set_xticklabels(df.index.to_list(), rotation=45)\n",
    "ax.set_ylim(bottom=0)\n",
    "ax.set_xlabel(xlabel)\n",
    "ax.set_ylabel(ylabel)\n",
    "ax.set_yticks(np.linspace(0,100,5))\n",
    "ax.set_yticklabels(np.linspace(0,100,5, dtype=int))\n",
    "sns.despine(fig=fig)\n",
    "fig.savefig(path_plot+'FigCFC.pdf', bbox_inches='tight')"
   ]
  },
  {
   "cell_type": "code",
   "execution_count": 5,
   "metadata": {},
   "outputs": [
    {
     "data": {
      "text/html": [
       "<div>\n",
       "<style scoped>\n",
       "    .dataframe tbody tr th:only-of-type {\n",
       "        vertical-align: middle;\n",
       "    }\n",
       "\n",
       "    .dataframe tbody tr th {\n",
       "        vertical-align: top;\n",
       "    }\n",
       "\n",
       "    .dataframe thead th {\n",
       "        text-align: right;\n",
       "    }\n",
       "</style>\n",
       "<table border=\"1\" class=\"dataframe\">\n",
       "  <thead>\n",
       "    <tr style=\"text-align: right;\">\n",
       "      <th></th>\n",
       "      <th>SLAM-HSC</th>\n",
       "      <th>MPP</th>\n",
       "      <th>PreMegE</th>\n",
       "      <th>CMP/MEP</th>\n",
       "      <th>BM</th>\n",
       "    </tr>\n",
       "  </thead>\n",
       "  <tbody>\n",
       "    <tr>\n",
       "      <th>0</th>\n",
       "      <td>3.00</td>\n",
       "      <td>0.55</td>\n",
       "      <td>1.75</td>\n",
       "      <td>0.250</td>\n",
       "      <td>0.020</td>\n",
       "    </tr>\n",
       "    <tr>\n",
       "      <th>1</th>\n",
       "      <td>0.17</td>\n",
       "      <td>0.03</td>\n",
       "      <td>0.50</td>\n",
       "      <td>0.033</td>\n",
       "      <td>0.029</td>\n",
       "    </tr>\n",
       "    <tr>\n",
       "      <th>2</th>\n",
       "      <td>0.00</td>\n",
       "      <td>0.00</td>\n",
       "      <td>1.10</td>\n",
       "      <td>0.033</td>\n",
       "      <td>0.026</td>\n",
       "    </tr>\n",
       "  </tbody>\n",
       "</table>\n",
       "</div>"
      ],
      "text/plain": [
       "   SLAM-HSC   MPP  PreMegE   CMP/MEP     BM\n",
       "0      3.00  0.55      1.75    0.250  0.020\n",
       "1      0.17  0.03      0.50    0.033  0.029\n",
       "2      0.00  0.00      1.10    0.033  0.026"
      ]
     },
     "execution_count": 5,
     "metadata": {},
     "output_type": "execute_result"
    }
   ],
   "source": [
    "dfe"
   ]
  },
  {
   "cell_type": "code",
   "execution_count": 6,
   "metadata": {},
   "outputs": [
    {
     "data": {
      "image/png": "[encoded data removed]",
      "text/plain": [
       "<Figure size 432x288 with 1 Axes>"
      ]
     },
     "metadata": {},
     "output_type": "display_data"
    }
   ],
   "source": [
    "#def plot_bars(dct_plot, cols_dct, xlabel, ylabel,\n",
    "#              legend_title, legend_classes, legend_cols,\n",
    "#              cat_width=0.7, str_sep='   '):\n",
    "#cols_dct\n",
    "colors = sns.color_palette('Accent')\n",
    "colors = ['Red', 'Limegreen', 'seagreen', 'Deepskyblue', 'grey']\n",
    "#             'SLAM+ Flt3+':'seagreen', 'GMP':'aqua', 'MEP':'Deepskyblue', 'SLAM+ MEP':'Royalblue',\n",
    "#             'MP':'DarkViolet', 'CD16/32- ckit-':'Violet'}\n",
    "#['MK', 'CFU-MK', 'GM', 'BFU-E', 'Mixed']\n",
    "xlabel = 'Progenitor'\n",
    "ylabel = 'MK cloning efficiency (%)'\n",
    "legend_title = 'Cell type'\n",
    "legend_classes = df.columns.to_list()\n",
    "legend_cols = colors\n",
    "cat_width = 0.7\n",
    "fig, ax = plt.subplots()\n",
    "\n",
    "for k,col in enumerate(dfe.columns):\n",
    "    dfe.loc[:,col]\n",
    "    x = k - cat_width/2\n",
    "    y = dfe.loc[:,col].mean()\n",
    "    ci = dfe.loc[:,col].std()\n",
    "    ax.plot([k]*2, [max(y-ci, 0), min(y+ci, 100)],\n",
    "            ls='-', marker='_', ms=5., lw=1., color='Black')#, color='Silver')\n",
    "    ax.bar(x=x, height=y,\n",
    "           width=cat_width, bottom=0, align='edge',\n",
    "           color=colors[k])#, label=col)\n",
    "#ax.legend(handles=handles, loc='upper left', ncol=1, bbox_to_anchor= (1.05, 1.), title=legend_title)\n",
    "\n",
    "ax.set_xticks(np.arange(len(dfe.columns), dtype=int))\n",
    "#xtickslabels = [str_sep.join(dct_plot[cat_k].keys())+'\\n'+cat_k for cat_k in dct_plot.keys()]\n",
    "ax.set_xticklabels(dfe.columns.to_list(), rotation=45)\n",
    "ax.set_ylim(bottom=0)\n",
    "ax.set_xlabel(xlabel)\n",
    "ax.set_ylabel(ylabel)\n",
    "#ax.set_yticks(np.linspace(0,100,5))\n",
    "#ax.set_yticklabels(np.linspace(0,100,5, dtype=int))\n",
    "sns.despine(fig=fig)\n",
    "#return fig,ax\n",
    "fig.savefig(path_plot+'FigCEFF.pdf', bbox_inches='tight')"
   ]
  },
  {
   "cell_type": "code",
   "execution_count": null,
   "metadata": {},
   "outputs": [],
   "source": []
  }
 ],
 "metadata": {
  "kernelspec": {
   "display_name": "Python 3",
   "language": "python",
   "name": "python3"
  },
  "language_info": {
   "codemirror_mode": {
    "name": "ipython",
    "version": 3
   },
   "file_extension": ".py",
   "mimetype": "text/x-python",
   "name": "python",
   "nbconvert_exporter": "python",
   "pygments_lexer": "ipython3",
   "version": "3.6.10"
  }
 },
 "nbformat": 4,
 "nbformat_minor": 2
}
